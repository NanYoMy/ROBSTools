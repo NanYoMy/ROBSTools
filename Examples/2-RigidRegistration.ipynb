{
 "cells": [
  {
   "cell_type": "markdown",
   "metadata": {},
   "source": [
    "## Example 2 - Rigid Registration\n",
    "This notebook demonstrates how to perform one-to-one rigid registration between CT images."
   ]
  },
  {
   "cell_type": "code",
   "execution_count": 2,
   "metadata": {},
   "outputs": [
    {
     "name": "stdout",
     "output_type": "stream",
     "text": [
      "Using matplotlib backend: TkAgg\n"
     ]
    }
   ],
   "source": [
    "# Import the necessary modules\n",
    "import os\n",
    "import SimpleITK as sitk\n",
    "import numpy as np\n",
    "\n",
    "#Visualisation, ImageProcessing\n",
    "from robstools import ImageRegistration, Visualisation\n",
    "\n",
    "# Matplotlib\n",
    "%matplotlib\n",
    "import matplotlib.pyplot as plt\n",
    "\n",
    "# Widgets\n",
    "import ipywidgets as widgets\n",
    "from ipywidgets import interact, fixed"
   ]
  },
  {
   "cell_type": "code",
   "execution_count": 3,
   "metadata": {},
   "outputs": [],
   "source": [
    "# Read in the images\n",
    "idList = [i[-2:] for i in os.listdir(\"./Data\") if \"Case\" in i]\n",
    "imList = [sitk.ReadImage(\"./Data/Case_{0}/Case_{0}_CT_CROP.nii.gz\".format(i)) for i in idList]"
   ]
  },
  {
   "cell_type": "code",
   "execution_count": 12,
   "metadata": {},
   "outputs": [],
   "source": [
    "for i in idList:\n",
    "    try:\n",
    "        os.mkdir('./Processing/RigidRegistration/Case_{0}'.format(i))\n",
    "        os.mkdir('./Processing/RigidRegistration/Case_{0}/Structures'.format(i))\n",
    "    except:\n",
    "        None"
   ]
  },
  {
   "cell_type": "markdown",
   "metadata": {},
   "source": [
    "### Step 1. Perform leave-one-out registration"
   ]
  },
  {
   "cell_type": "code",
   "execution_count": 44,
   "metadata": {
    "scrolled": true
   },
   "outputs": [
    {
     "name": "stdout",
     "output_type": "stream",
     "text": [
      "(223, 162, 111)\n",
      "(242, 201, 133)\n",
      "(223, 162, 111)\n",
      "(258, 194, 116)\n",
      "(223, 162, 111)\n",
      "(255, 197, 105)\n",
      "(223, 162, 111)\n",
      "(252, 187, 107)\n",
      "(242, 201, 133)\n",
      "(223, 162, 111)\n",
      "(242, 201, 133)\n",
      "(258, 194, 116)\n",
      "(242, 201, 133)\n",
      "(255, 197, 105)\n",
      "(242, 201, 133)\n",
      "(252, 187, 107)\n",
      "(258, 194, 116)\n",
      "(223, 162, 111)\n",
      "(258, 194, 116)\n",
      "(242, 201, 133)\n",
      "(258, 194, 116)\n",
      "(255, 197, 105)\n",
      "(258, 194, 116)\n",
      "(252, 187, 107)\n",
      "(255, 197, 105)\n",
      "(223, 162, 111)\n",
      "(255, 197, 105)\n",
      "(242, 201, 133)\n",
      "(255, 197, 105)\n",
      "(258, 194, 116)\n",
      "(255, 197, 105)\n",
      "(252, 187, 107)\n",
      "(252, 187, 107)\n",
      "(223, 162, 111)\n",
      "(252, 187, 107)\n",
      "(242, 201, 133)\n",
      "(252, 187, 107)\n",
      "(258, 194, 116)\n",
      "(252, 187, 107)\n",
      "(255, 197, 105)\n"
     ]
    }
   ],
   "source": [
    "parFile = '../ParameterFiles/RigidTransformParametersHighQ.txt'\n",
    "\n",
    "for targetId, targetIm in zip(idList, imList):\n",
    "    movingIdList, movingImList = zip(*[(i, im) for i, im in zip(idList, imList) if i!=targetId])\n",
    "    for movingId, movingIm in zip(movingIdList, movingImList):\n",
    "        registeredImage, transform = ImageRegistration.RigidReg(targetIm, movingIm, parFile)\n",
    "        \n",
    "        sitk.WriteImage(registeredImage, 'Processing/RigidRegistration/Case_{0}/Case_{1}_to_Case_{0}_CT_CROP_RIGID.nii.gz'.format(targetId, movingId))\n",
    "        sitk.WriteParameterFile(transform, 'Processing/RigidRegistration/Case_{0}/Case_{1}_to_Case_{0}_CT_CROP_RIGID.txt'.format(targetId, movingId))"
   ]
  },
  {
   "cell_type": "markdown",
   "metadata": {},
   "source": [
    "### Step 2. Apply transformation to structures\n",
    "This could also be done during the leave-one-out registration loop, but is separated here for simplicity."
   ]
  },
  {
   "cell_type": "code",
   "execution_count": null,
   "metadata": {},
   "outputs": [],
   "source": [
    "\n",
    "for targetId, targetIm in zip(idList, imList):\n",
    "    movingIdList = idList[:].remove(targetId)\n",
    "    for movingId, movingIm in zip(movingIdList, movingImList):\n",
    "        registeredImage, transform = ImageRegistration.RigidReg(targetIm, movingIm, parFile)\n",
    "        \n",
    "        sitk.WriteImage(registeredImage, 'Processing/RigidRegistration/Case_{0}/Case_{1}_to_Case_{0}_CT_CROP_RIGID.nii.gz'.format(targetId, movingId))\n",
    "        sitk.WriteParameterFile(transform, 'Processing/RigidRegistration/Case_{0}/Case_{1}_to_Case_{0}_CT_CROP_RIGID.txt'.format(targetId, movingId))"
   ]
  },
  {
   "cell_type": "code",
   "execution_count": 46,
   "metadata": {},
   "outputs": [
    {
     "data": {
      "text/plain": [
       "[0, 1, 2, 3, 4, 5, 6, 7, 8, 9]"
      ]
     },
     "execution_count": 46,
     "metadata": {},
     "output_type": "execute_result"
    }
   ],
   "source": [
    "x=range(10)\n",
    "x[:].remove(7)\n",
    "x"
   ]
  },
  {
   "cell_type": "code",
   "execution_count": null,
   "metadata": {},
   "outputs": [],
   "source": []
  },
  {
   "cell_type": "code",
   "execution_count": null,
   "metadata": {},
   "outputs": [],
   "source": []
  }
 ],
 "metadata": {
  "kernelspec": {
   "display_name": "Python 2",
   "language": "python",
   "name": "python2"
  },
  "language_info": {
   "codemirror_mode": {
    "name": "ipython",
    "version": 2
   },
   "file_extension": ".py",
   "mimetype": "text/x-python",
   "name": "python",
   "nbconvert_exporter": "python",
   "pygments_lexer": "ipython2",
   "version": "2.7.15rc1"
  }
 },
 "nbformat": 4,
 "nbformat_minor": 2
}
