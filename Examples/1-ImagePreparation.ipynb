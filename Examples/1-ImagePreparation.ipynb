{
 "cells": [
  {
   "cell_type": "markdown",
   "metadata": {},
   "source": [
    "## Example 1 - Image Preparation\n",
    "This notebook demonstrates how to prepare a thoracic x-ray computed tomography image for automatic segmentation."
   ]
  },
  {
   "cell_type": "code",
   "execution_count": 1,
   "metadata": {},
   "outputs": [
    {
     "name": "stdout",
     "output_type": "stream",
     "text": [
      "Using matplotlib backend: TkAgg\n"
     ]
    }
   ],
   "source": [
    "# Import the necessary modules\n",
    "import os\n",
    "import SimpleITK as sitk\n",
    "import numpy as np\n",
    "\n",
    "#Visualisation, ImageProcessing\n",
    "from robstools import ImageProcessing, Visualisation\n",
    "\n",
    "# Matplotlib\n",
    "%matplotlib\n",
    "import matplotlib.pyplot as plt\n",
    "\n",
    "# Widgets\n",
    "import ipywidgets as widgets\n",
    "from ipywidgets import interact, fixed"
   ]
  },
  {
   "cell_type": "code",
   "execution_count": 2,
   "metadata": {},
   "outputs": [],
   "source": [
    "# Read in the images\n",
    "idList = [i[-2:] for i in os.listdir(\"./Data\") if \"Case\" in i]\n",
    "imList = [sitk.ReadImage(\"./Data/Case_{0}/Case_{0}_CT.nii.gz\".format(i)) for i in idList]"
   ]
  },
  {
   "cell_type": "markdown",
   "metadata": {},
   "source": [
    "### Step 1. Automatic lung segmentation\n",
    "Here we use an intensity-based algorithm to segment the lungs."
   ]
  },
  {
   "cell_type": "code",
   "execution_count": 3,
   "metadata": {},
   "outputs": [],
   "source": [
    "(boxList, maskList) = zip(*[(ImageProcessing.AutoLungSegment(im)) for im in imList])"
   ]
  },
  {
   "cell_type": "markdown",
   "metadata": {},
   "source": [
    "#### Modifying the cropping box\n",
    "Often the anterior limit of the box sits close to the heart border, so we extend it in this direction."
   ]
  },
  {
   "cell_type": "code",
   "execution_count": 4,
   "metadata": {},
   "outputs": [],
   "source": [
    "modifiedBoxList = []\n",
    "for maskBox, im in zip(boxList, imList):\n",
    "    sag0 = maskBox[0]\n",
    "    cor0 = max([maskBox[1]-15, 0])\n",
    "    ax0 =  max([maskBox[2]-5,0])\n",
    "    sagD = maskBox[3]\n",
    "    corD = min([maskBox[4]+15, im.GetSize()[1]-sag0])\n",
    "    axD =  min([maskBox[5]+5,im.GetSize()[2]-ax0])\n",
    "\n",
    "    cropBox = (sag0, cor0, ax0, sagD, corD, axD)\n",
    "    modifiedBoxList.append(cropBox)"
   ]
  },
  {
   "cell_type": "markdown",
   "metadata": {},
   "source": [
    "#### Plotting\n",
    "Now we can plot the different images to make sure nothing went wrong"
   ]
  },
  {
   "cell_type": "code",
   "execution_count": 5,
   "metadata": {},
   "outputs": [],
   "source": [
    "plt.ioff()\n",
    "figList, axisList, cutList = zip(*[Visualisation.displaySlice(im, 'ortho') for im in imList]);"
   ]
  },
  {
   "cell_type": "code",
   "execution_count": 6,
   "metadata": {},
   "outputs": [
    {
     "name": "stderr",
     "output_type": "stream",
     "text": [
      "/home/robbie/.local/lib/python2.7/site-packages/matplotlib/contour.py:1230: UserWarning: No contour levels were found within the data range.\n",
      "  warnings.warn(\"No contour levels were found\"\n"
     ]
    }
   ],
   "source": [
    "figList = [Visualisation.overlayContour(mask, fig, 'ortho', cut) for (mask, fig, cut) in zip(maskList, figList, cutList)]"
   ]
  },
  {
   "cell_type": "code",
   "execution_count": 7,
   "metadata": {},
   "outputs": [],
   "source": [
    "figList = [Visualisation.overlayBox(box, fig, 'ortho') for (box, fig) in zip(modifiedBoxList, figList)]"
   ]
  },
  {
   "cell_type": "code",
   "execution_count": 8,
   "metadata": {},
   "outputs": [
    {
     "data": {
      "application/vnd.jupyter.widget-view+json": {
       "model_id": "69967a46b5aa4b499ccfdf7d20e302b7",
       "version_major": 2,
       "version_minor": 0
      },
      "text/plain": [
       "aW50ZXJhY3RpdmUoY2hpbGRyZW49KERyb3Bkb3duKGRlc2NyaXB0aW9uPXUnaW5kZXgnLCBvcHRpb25zPSgwLCAxLCAyLCAzLCA0KSwgdmFsdWU9MCksIE91dHB1dCgpKSwgX2RvbV9jbGFzc2XigKY=\n"
      ]
     },
     "metadata": {},
     "output_type": "display_data"
    },
    {
     "data": {
      "text/plain": [
       "<function __main__.figSelect>"
      ]
     },
     "execution_count": 8,
     "metadata": {},
     "output_type": "execute_result"
    }
   ],
   "source": [
    "def figSelect(figureList, index):\n",
    "    display( figureList[index] )\n",
    "\n",
    "interact(figSelect, figureList=fixed(figList), index=range(len(figList)))"
   ]
  },
  {
   "cell_type": "markdown",
   "metadata": {},
   "source": [
    "### Step 2. Cropping\n",
    "Applying the same cropping box to the substructure images, and saving all of these new images."
   ]
  },
  {
   "cell_type": "code",
   "execution_count": 36,
   "metadata": {},
   "outputs": [],
   "source": [
    "croppedImList = [ImageProcessing.CropImage(im, box) for im, box in zip(imList, modifiedBoxList)]\n",
    "[sitk.WriteImage(im, \"./Data/Case_{0}/Case_{0}_CT_CROP.nii.gz\".format(i)) for i, im in zip(idList, croppedImList)];"
   ]
  },
  {
   "cell_type": "code",
   "execution_count": 44,
   "metadata": {},
   "outputs": [],
   "source": [
    "for i, box in zip(idList, modifiedBoxList):\n",
    "    structureNameList = [s for s in os.listdir('./Data/Case_{0}'.format(i)) if ((('SProb' in s) or ('SBin' in s)) and ('CROP' not in s))]\n",
    "    croppedImList = [ImageProcessing.CropImage(sitk.ReadImage('./Data/Case_{0}/{1}'.format(i,im)), box) for im in structureNameList]\n",
    "       \n",
    "    for cIm, s in zip(croppedImList, structureNameList):\n",
    "        sName = s[6:][s[6:].find('_')+1:-7]\n",
    "        sitk.WriteImage(cIm, './Data/Case_{0}/Case_{0}_{1}_CROP.nii.gz'.format(i, sName))\n",
    "        "
   ]
  },
  {
   "cell_type": "code",
   "execution_count": null,
   "metadata": {},
   "outputs": [],
   "source": []
  }
 ],
 "metadata": {
  "kernelspec": {
   "display_name": "Python 2",
   "language": "python",
   "name": "python2"
  },
  "language_info": {
   "codemirror_mode": {
    "name": "ipython",
    "version": 2
   },
   "file_extension": ".py",
   "mimetype": "text/x-python",
   "name": "python",
   "nbconvert_exporter": "python",
   "pygments_lexer": "ipython2",
   "version": "2.7.15rc1"
  }
 },
 "nbformat": 4,
 "nbformat_minor": 2
}
